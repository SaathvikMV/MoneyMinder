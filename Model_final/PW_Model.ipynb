{
 "cells": [
  {
   "cell_type": "code",
   "execution_count": 1,
   "id": "81a90814",
   "metadata": {},
   "outputs": [],
   "source": [
    "import pandas as pd\n",
    "import matplotlib.pyplot as plt\n",
    "from sklearn.feature_extraction.text import TfidfVectorizer\n",
    "from sklearn.feature_selection import chi2\n",
    "import numpy as np\n",
    "from sklearn.model_selection import train_test_split\n",
    "from sklearn.feature_extraction.text import CountVectorizer\n",
    "from sklearn.feature_extraction.text import TfidfTransformer\n",
    "from sklearn.naive_bayes import MultinomialNB\n",
    "from sklearn.linear_model import LogisticRegression\n",
    "from sklearn.ensemble import RandomForestClassifier\n",
    "from sklearn.svm import LinearSVC\n",
    "from sklearn.model_selection import cross_val_score\n",
    "from sklearn import metrics"
   ]
  },
  {
   "cell_type": "code",
   "execution_count": 2,
   "id": "c3e3e9f9",
   "metadata": {},
   "outputs": [
    {
     "data": {
      "text/html": [
       "<div>\n",
       "<style scoped>\n",
       "    .dataframe tbody tr th:only-of-type {\n",
       "        vertical-align: middle;\n",
       "    }\n",
       "\n",
       "    .dataframe tbody tr th {\n",
       "        vertical-align: top;\n",
       "    }\n",
       "\n",
       "    .dataframe thead th {\n",
       "        text-align: right;\n",
       "    }\n",
       "</style>\n",
       "<table border=\"1\" class=\"dataframe\">\n",
       "  <thead>\n",
       "    <tr style=\"text-align: right;\">\n",
       "      <th></th>\n",
       "      <th>Category</th>\n",
       "      <th>Expense</th>\n",
       "    </tr>\n",
       "  </thead>\n",
       "  <tbody>\n",
       "    <tr>\n",
       "      <th>0</th>\n",
       "      <td>Entertainment</td>\n",
       "      <td>Sport tickets</td>\n",
       "    </tr>\n",
       "    <tr>\n",
       "      <th>1</th>\n",
       "      <td>Food</td>\n",
       "      <td>Curd</td>\n",
       "    </tr>\n",
       "    <tr>\n",
       "      <th>2</th>\n",
       "      <td>Housing</td>\n",
       "      <td>Rent</td>\n",
       "    </tr>\n",
       "    <tr>\n",
       "      <th>3</th>\n",
       "      <td>Food</td>\n",
       "      <td>Pizza</td>\n",
       "    </tr>\n",
       "    <tr>\n",
       "      <th>4</th>\n",
       "      <td>Travel</td>\n",
       "      <td>Gasoline</td>\n",
       "    </tr>\n",
       "  </tbody>\n",
       "</table>\n",
       "</div>"
      ],
      "text/plain": [
       "        Category        Expense\n",
       "0  Entertainment  Sport tickets\n",
       "1           Food           Curd\n",
       "2        Housing           Rent\n",
       "3           Food          Pizza\n",
       "4         Travel       Gasoline"
      ]
     },
     "execution_count": 2,
     "metadata": {},
     "output_type": "execute_result"
    }
   ],
   "source": [
    "df = pd.read_csv(\"expense_dataset.csv\")\n",
    "df.head()"
   ]
  },
  {
   "cell_type": "code",
   "execution_count": 3,
   "id": "a11a016d",
   "metadata": {},
   "outputs": [
    {
     "data": {
      "text/html": [
       "<div>\n",
       "<style scoped>\n",
       "    .dataframe tbody tr th:only-of-type {\n",
       "        vertical-align: middle;\n",
       "    }\n",
       "\n",
       "    .dataframe tbody tr th {\n",
       "        vertical-align: top;\n",
       "    }\n",
       "\n",
       "    .dataframe thead th {\n",
       "        text-align: right;\n",
       "    }\n",
       "</style>\n",
       "<table border=\"1\" class=\"dataframe\">\n",
       "  <thead>\n",
       "    <tr style=\"text-align: right;\">\n",
       "      <th></th>\n",
       "      <th>Category</th>\n",
       "      <th>Expense</th>\n",
       "      <th>category_id</th>\n",
       "    </tr>\n",
       "  </thead>\n",
       "  <tbody>\n",
       "    <tr>\n",
       "      <th>0</th>\n",
       "      <td>Entertainment</td>\n",
       "      <td>Sport tickets</td>\n",
       "      <td>0</td>\n",
       "    </tr>\n",
       "    <tr>\n",
       "      <th>1</th>\n",
       "      <td>Food</td>\n",
       "      <td>Curd</td>\n",
       "      <td>1</td>\n",
       "    </tr>\n",
       "    <tr>\n",
       "      <th>2</th>\n",
       "      <td>Housing</td>\n",
       "      <td>Rent</td>\n",
       "      <td>2</td>\n",
       "    </tr>\n",
       "    <tr>\n",
       "      <th>3</th>\n",
       "      <td>Food</td>\n",
       "      <td>Pizza</td>\n",
       "      <td>1</td>\n",
       "    </tr>\n",
       "    <tr>\n",
       "      <th>4</th>\n",
       "      <td>Travel</td>\n",
       "      <td>Gasoline</td>\n",
       "      <td>3</td>\n",
       "    </tr>\n",
       "    <tr>\n",
       "      <th>...</th>\n",
       "      <td>...</td>\n",
       "      <td>...</td>\n",
       "      <td>...</td>\n",
       "    </tr>\n",
       "    <tr>\n",
       "      <th>914</th>\n",
       "      <td>Savings</td>\n",
       "      <td>Vacation</td>\n",
       "      <td>4</td>\n",
       "    </tr>\n",
       "    <tr>\n",
       "      <th>915</th>\n",
       "      <td>Food</td>\n",
       "      <td>Gourmet or luxury food purchases</td>\n",
       "      <td>1</td>\n",
       "    </tr>\n",
       "    <tr>\n",
       "      <th>916</th>\n",
       "      <td>Housing</td>\n",
       "      <td>Homeowners association special assessments</td>\n",
       "      <td>2</td>\n",
       "    </tr>\n",
       "    <tr>\n",
       "      <th>917</th>\n",
       "      <td>Housing</td>\n",
       "      <td>Window treatments</td>\n",
       "      <td>2</td>\n",
       "    </tr>\n",
       "    <tr>\n",
       "      <th>918</th>\n",
       "      <td>Personal and Health Care</td>\n",
       "      <td>Regular check up</td>\n",
       "      <td>5</td>\n",
       "    </tr>\n",
       "  </tbody>\n",
       "</table>\n",
       "<p>919 rows × 3 columns</p>\n",
       "</div>"
      ],
      "text/plain": [
       "                     Category                                     Expense   \n",
       "0               Entertainment                               Sport tickets  \\\n",
       "1                        Food                                        Curd   \n",
       "2                     Housing                                        Rent   \n",
       "3                        Food                                       Pizza   \n",
       "4                      Travel                                    Gasoline   \n",
       "..                        ...                                         ...   \n",
       "914                   Savings                                    Vacation   \n",
       "915                      Food            Gourmet or luxury food purchases   \n",
       "916                   Housing  Homeowners association special assessments   \n",
       "917                   Housing                           Window treatments   \n",
       "918  Personal and Health Care                            Regular check up   \n",
       "\n",
       "     category_id  \n",
       "0              0  \n",
       "1              1  \n",
       "2              2  \n",
       "3              1  \n",
       "4              3  \n",
       "..           ...  \n",
       "914            4  \n",
       "915            1  \n",
       "916            2  \n",
       "917            2  \n",
       "918            5  \n",
       "\n",
       "[919 rows x 3 columns]"
      ]
     },
     "execution_count": 3,
     "metadata": {},
     "output_type": "execute_result"
    }
   ],
   "source": [
    "df['category_id'] = df['Category'].factorize()[0]\n",
    "category_id_df = df[['Category', 'category_id']].drop_duplicates().sort_values('category_id')\n",
    "category_to_id = dict(category_id_df.values)\n",
    "id_to_category = dict(category_id_df[['category_id', 'Category']].values)\n",
    "df"
   ]
  },
  {
   "cell_type": "code",
   "execution_count": 4,
   "id": "211d6d2c",
   "metadata": {},
   "outputs": [
    {
     "data": {
      "image/png": "[encoded data removed]",
      "text/plain": [
       "<Figure size 800x600 with 1 Axes>"
      ]
     },
     "metadata": {},
     "output_type": "display_data"
    }
   ],
   "source": [
    "fig = plt.figure(figsize=(8,6))\n",
    "df.groupby('Category').Expense.count().plot.bar(ylim=0)\n",
    "plt.show()"
   ]
  },
  {
   "cell_type": "code",
   "execution_count": 5,
   "id": "b6e7d8c4",
   "metadata": {},
   "outputs": [
    {
     "data": {
      "text/plain": [
       "(919, 112)"
      ]
     },
     "execution_count": 5,
     "metadata": {},
     "output_type": "execute_result"
    }
   ],
   "source": [
    "tfidf = TfidfVectorizer(sublinear_tf=True, min_df=5, norm='l2', encoding='latin-1', ngram_range=(1, 2), stop_words='english')\n",
    "features = tfidf.fit_transform(df.Expense).toarray()\n",
    "labels = df.category_id\n",
    "features.shape"
   ]
  },
  {
   "cell_type": "code",
   "execution_count": 6,
   "id": "7908eff1",
   "metadata": {},
   "outputs": [],
   "source": [
    "X_train, X_test, y_train, y_test = train_test_split(df['Expense'], df['Category'], random_state = 0)\n",
    "count_vect = CountVectorizer()\n",
    "X_train_counts = count_vect.fit_transform(X_train)\n",
    "tfidf_transformer = TfidfTransformer()\n",
    "X_train_tfidf = tfidf_transformer.fit_transform(X_train_counts)\n",
    "clf = LogisticRegression().fit(X_train_tfidf, y_train)"
   ]
  },
  {
   "cell_type": "code",
   "execution_count": 7,
   "id": "202f776f",
   "metadata": {},
   "outputs": [
    {
     "name": "stdout",
     "output_type": "stream",
     "text": [
      "['Food']\n"
     ]
    }
   ],
   "source": [
    "print(clf.predict(count_vect.transform([\"Mc aloo tikki burger\"])))"
   ]
  },
  {
   "cell_type": "code",
   "execution_count": 8,
   "id": "b6c05fd7",
   "metadata": {},
   "outputs": [
    {
     "name": "stdout",
     "output_type": "stream",
     "text": [
      "['Housing']\n"
     ]
    }
   ],
   "source": [
    "print(clf.predict(count_vect.transform([\"Dish Washer\"])))"
   ]
  },
  {
   "cell_type": "code",
   "execution_count": 9,
   "id": "178781cb",
   "metadata": {},
   "outputs": [
    {
     "name": "stdout",
     "output_type": "stream",
     "text": [
      "['Entertainment']\n"
     ]
    }
   ],
   "source": [
    "print(clf.predict(count_vect.transform([\"Movie tickets\"])))"
   ]
  },
  {
   "cell_type": "code",
   "execution_count": 10,
   "id": "913accba",
   "metadata": {},
   "outputs": [
    {
     "data": {
      "image/png": "[encoded data removed]",
      "text/plain": [
       "<Figure size 640x480 with 1 Axes>"
      ]
     },
     "metadata": {},
     "output_type": "display_data"
    }
   ],
   "source": [
    "models = [\n",
    "    RandomForestClassifier(n_estimators=200, max_depth=3, random_state=0),\n",
    "    LinearSVC(),\n",
    "    MultinomialNB(),\n",
    "    LogisticRegression(random_state=0),\n",
    "]\n",
    "CV = 5\n",
    "cv_df = pd.DataFrame(index=range(CV * len(models)))\n",
    "entries = []\n",
    "for model in models:\n",
    "  model_name = model.__class__.__name__\n",
    "  accuracies = cross_val_score(model, features, labels, scoring='accuracy', cv=CV)\n",
    "  for fold_idx, accuracy in enumerate(accuracies):\n",
    "    entries.append((model_name, fold_idx, accuracy))\n",
    "cv_df = pd.DataFrame(entries, columns=['model_name', 'fold_idx', 'accuracy'])\n",
    "import seaborn as sns\n",
    "sns.boxplot(x='model_name', y='accuracy', data=cv_df)\n",
    "sns.stripplot(x='model_name', y='accuracy', data=cv_df, \n",
    "              size=8, jitter=True, edgecolor=\"gray\", linewidth=2)\n",
    "plt.show()"
   ]
  },
  {
   "cell_type": "code",
   "execution_count": 11,
   "id": "1b11fa32",
   "metadata": {
    "scrolled": true
   },
   "outputs": [
    {
     "data": {
      "text/plain": [
       "model_name\n",
       "LinearSVC                 0.575624\n",
       "LogisticRegression        0.557080\n",
       "MultinomialNB             0.537515\n",
       "RandomForestClassifier    0.363441\n",
       "Name: accuracy, dtype: float64"
      ]
     },
     "execution_count": 11,
     "metadata": {},
     "output_type": "execute_result"
    }
   ],
   "source": [
    "cv_df.groupby('model_name').accuracy.mean()"
   ]
  },
  {
   "cell_type": "code",
   "execution_count": 12,
   "id": "3b7d9253",
   "metadata": {},
   "outputs": [],
   "source": [
    "model = LinearSVC()\n",
    "X_train, X_test, y_train, y_test, indices_train, indices_test = train_test_split(features, labels, df.index, test_size=0.33, random_state=0)\n",
    "model.fit(X_train, y_train)\n",
    "y_pred = model.predict(X_test)"
   ]
  },
  {
   "cell_type": "code",
   "execution_count": 13,
   "id": "cca4a78e",
   "metadata": {},
   "outputs": [
    {
     "data": {
      "image/png": "[encoded data removed]",
      "text/plain": [
       "<Figure size 1000x1000 with 2 Axes>"
      ]
     },
     "metadata": {},
     "output_type": "display_data"
    }
   ],
   "source": [
    "from sklearn.metrics import confusion_matrix\n",
    "conf_mat = confusion_matrix(y_test, y_pred)\n",
    "fig, ax = plt.subplots(figsize=(10,10))\n",
    "sns.heatmap(conf_mat, annot=True, fmt='d',\n",
    "            xticklabels=category_id_df.Category.values, yticklabels=category_id_df.Category.values)\n",
    "plt.ylabel('Actual')\n",
    "plt.xlabel('Predicted')\n",
    "plt.show()"
   ]
  },
  {
   "cell_type": "code",
   "execution_count": 14,
   "id": "9c61d091",
   "metadata": {},
   "outputs": [
    {
     "name": "stdout",
     "output_type": "stream",
     "text": [
      "'Entertainment' predicted as 'Food' : 17 examples.\n"
     ]
    },
    {
     "data": {
      "text/html": [
       "<div>\n",
       "<style scoped>\n",
       "    .dataframe tbody tr th:only-of-type {\n",
       "        vertical-align: middle;\n",
       "    }\n",
       "\n",
       "    .dataframe tbody tr th {\n",
       "        vertical-align: top;\n",
       "    }\n",
       "\n",
       "    .dataframe thead th {\n",
       "        text-align: right;\n",
       "    }\n",
       "</style>\n",
       "<table border=\"1\" class=\"dataframe\">\n",
       "  <thead>\n",
       "    <tr style=\"text-align: right;\">\n",
       "      <th></th>\n",
       "      <th>Category</th>\n",
       "      <th>Expense</th>\n",
       "    </tr>\n",
       "  </thead>\n",
       "  <tbody>\n",
       "    <tr>\n",
       "      <th>231</th>\n",
       "      <td>Entertainment</td>\n",
       "      <td>Magic or illusionist shows</td>\n",
       "    </tr>\n",
       "    <tr>\n",
       "      <th>800</th>\n",
       "      <td>Entertainment</td>\n",
       "      <td>PS5</td>\n",
       "    </tr>\n",
       "    <tr>\n",
       "      <th>799</th>\n",
       "      <td>Entertainment</td>\n",
       "      <td>Amazon prime</td>\n",
       "    </tr>\n",
       "    <tr>\n",
       "      <th>792</th>\n",
       "      <td>Entertainment</td>\n",
       "      <td>Amazon prime</td>\n",
       "    </tr>\n",
       "    <tr>\n",
       "      <th>476</th>\n",
       "      <td>Entertainment</td>\n",
       "      <td>Hobbies</td>\n",
       "    </tr>\n",
       "    <tr>\n",
       "      <th>679</th>\n",
       "      <td>Entertainment</td>\n",
       "      <td>Carnivals</td>\n",
       "    </tr>\n",
       "    <tr>\n",
       "      <th>731</th>\n",
       "      <td>Entertainment</td>\n",
       "      <td>Book readings or author signings</td>\n",
       "    </tr>\n",
       "    <tr>\n",
       "      <th>812</th>\n",
       "      <td>Entertainment</td>\n",
       "      <td>Video game purchases</td>\n",
       "    </tr>\n",
       "    <tr>\n",
       "      <th>702</th>\n",
       "      <td>Entertainment</td>\n",
       "      <td>Charity auctions or gala dinners</td>\n",
       "    </tr>\n",
       "    <tr>\n",
       "      <th>910</th>\n",
       "      <td>Entertainment</td>\n",
       "      <td>Gambling</td>\n",
       "    </tr>\n",
       "    <tr>\n",
       "      <th>681</th>\n",
       "      <td>Entertainment</td>\n",
       "      <td>TV show</td>\n",
       "    </tr>\n",
       "    <tr>\n",
       "      <th>255</th>\n",
       "      <td>Entertainment</td>\n",
       "      <td>Magazines</td>\n",
       "    </tr>\n",
       "    <tr>\n",
       "      <th>10</th>\n",
       "      <td>Entertainment</td>\n",
       "      <td>Circus or acrobatics performances</td>\n",
       "    </tr>\n",
       "    <tr>\n",
       "      <th>549</th>\n",
       "      <td>Entertainment</td>\n",
       "      <td>Magazines</td>\n",
       "    </tr>\n",
       "    <tr>\n",
       "      <th>71</th>\n",
       "      <td>Entertainment</td>\n",
       "      <td>Nintendo</td>\n",
       "    </tr>\n",
       "    <tr>\n",
       "      <th>873</th>\n",
       "      <td>Entertainment</td>\n",
       "      <td>Video game purchases</td>\n",
       "    </tr>\n",
       "    <tr>\n",
       "      <th>118</th>\n",
       "      <td>Entertainment</td>\n",
       "      <td>Shows</td>\n",
       "    </tr>\n",
       "  </tbody>\n",
       "</table>\n",
       "</div>"
      ],
      "text/plain": [
       "          Category                            Expense\n",
       "231  Entertainment         Magic or illusionist shows\n",
       "800  Entertainment                                PS5\n",
       "799  Entertainment                       Amazon prime\n",
       "792  Entertainment                       Amazon prime\n",
       "476  Entertainment                            Hobbies\n",
       "679  Entertainment                          Carnivals\n",
       "731  Entertainment   Book readings or author signings\n",
       "812  Entertainment               Video game purchases\n",
       "702  Entertainment   Charity auctions or gala dinners\n",
       "910  Entertainment                           Gambling\n",
       "681  Entertainment                            TV show\n",
       "255  Entertainment                          Magazines\n",
       "10   Entertainment  Circus or acrobatics performances\n",
       "549  Entertainment                          Magazines\n",
       "71   Entertainment                           Nintendo\n",
       "873  Entertainment               Video game purchases\n",
       "118  Entertainment                              Shows"
      ]
     },
     "metadata": {},
     "output_type": "display_data"
    },
    {
     "name": "stdout",
     "output_type": "stream",
     "text": [
      "\n",
      "'Housing' predicted as 'Food' : 25 examples.\n"
     ]
    },
    {
     "data": {
      "text/html": [
       "<div>\n",
       "<style scoped>\n",
       "    .dataframe tbody tr th:only-of-type {\n",
       "        vertical-align: middle;\n",
       "    }\n",
       "\n",
       "    .dataframe tbody tr th {\n",
       "        vertical-align: top;\n",
       "    }\n",
       "\n",
       "    .dataframe thead th {\n",
       "        text-align: right;\n",
       "    }\n",
       "</style>\n",
       "<table border=\"1\" class=\"dataframe\">\n",
       "  <thead>\n",
       "    <tr style=\"text-align: right;\">\n",
       "      <th></th>\n",
       "      <th>Category</th>\n",
       "      <th>Expense</th>\n",
       "    </tr>\n",
       "  </thead>\n",
       "  <tbody>\n",
       "    <tr>\n",
       "      <th>298</th>\n",
       "      <td>Housing</td>\n",
       "      <td>Tablesw</td>\n",
       "    </tr>\n",
       "    <tr>\n",
       "      <th>408</th>\n",
       "      <td>Housing</td>\n",
       "      <td>Key duplication or replacement</td>\n",
       "    </tr>\n",
       "    <tr>\n",
       "      <th>382</th>\n",
       "      <td>Housing</td>\n",
       "      <td>Wallpaper</td>\n",
       "    </tr>\n",
       "    <tr>\n",
       "      <th>609</th>\n",
       "      <td>Housing</td>\n",
       "      <td>Electricity Bill</td>\n",
       "    </tr>\n",
       "    <tr>\n",
       "      <th>724</th>\n",
       "      <td>Housing</td>\n",
       "      <td>Plumbing fixtures like sinks</td>\n",
       "    </tr>\n",
       "    <tr>\n",
       "      <th>358</th>\n",
       "      <td>Housing</td>\n",
       "      <td>moving truck</td>\n",
       "    </tr>\n",
       "    <tr>\n",
       "      <th>582</th>\n",
       "      <td>Housing</td>\n",
       "      <td>Sofa</td>\n",
       "    </tr>\n",
       "    <tr>\n",
       "      <th>834</th>\n",
       "      <td>Housing</td>\n",
       "      <td>Dishwashers</td>\n",
       "    </tr>\n",
       "    <tr>\n",
       "      <th>909</th>\n",
       "      <td>Housing</td>\n",
       "      <td>Bedsheet</td>\n",
       "    </tr>\n",
       "    <tr>\n",
       "      <th>805</th>\n",
       "      <td>Housing</td>\n",
       "      <td>Utensils</td>\n",
       "    </tr>\n",
       "    <tr>\n",
       "      <th>650</th>\n",
       "      <td>Housing</td>\n",
       "      <td>Fire extinguishers and smoke detectors</td>\n",
       "    </tr>\n",
       "    <tr>\n",
       "      <th>278</th>\n",
       "      <td>Housing</td>\n",
       "      <td>professional movers</td>\n",
       "    </tr>\n",
       "    <tr>\n",
       "      <th>531</th>\n",
       "      <td>Housing</td>\n",
       "      <td>Detergent</td>\n",
       "    </tr>\n",
       "    <tr>\n",
       "      <th>698</th>\n",
       "      <td>Housing</td>\n",
       "      <td>Tablesw</td>\n",
       "    </tr>\n",
       "    <tr>\n",
       "      <th>311</th>\n",
       "      <td>Housing</td>\n",
       "      <td>Mop</td>\n",
       "    </tr>\n",
       "    <tr>\n",
       "      <th>916</th>\n",
       "      <td>Housing</td>\n",
       "      <td>Homeowners association special assessments</td>\n",
       "    </tr>\n",
       "    <tr>\n",
       "      <th>866</th>\n",
       "      <td>Housing</td>\n",
       "      <td>Garbage covers</td>\n",
       "    </tr>\n",
       "    <tr>\n",
       "      <th>156</th>\n",
       "      <td>Housing</td>\n",
       "      <td>Bedding and linens</td>\n",
       "    </tr>\n",
       "    <tr>\n",
       "      <th>167</th>\n",
       "      <td>Housing</td>\n",
       "      <td>Ovens</td>\n",
       "    </tr>\n",
       "    <tr>\n",
       "      <th>535</th>\n",
       "      <td>Housing</td>\n",
       "      <td>Desks</td>\n",
       "    </tr>\n",
       "    <tr>\n",
       "      <th>116</th>\n",
       "      <td>Housing</td>\n",
       "      <td>Vaccum cleaner</td>\n",
       "    </tr>\n",
       "    <tr>\n",
       "      <th>744</th>\n",
       "      <td>Housing</td>\n",
       "      <td>Sewer clean</td>\n",
       "    </tr>\n",
       "    <tr>\n",
       "      <th>124</th>\n",
       "      <td>Housing</td>\n",
       "      <td>Light bulbs</td>\n",
       "    </tr>\n",
       "    <tr>\n",
       "      <th>12</th>\n",
       "      <td>Housing</td>\n",
       "      <td>LPG bill</td>\n",
       "    </tr>\n",
       "    <tr>\n",
       "      <th>235</th>\n",
       "      <td>Housing</td>\n",
       "      <td>professional movers</td>\n",
       "    </tr>\n",
       "  </tbody>\n",
       "</table>\n",
       "</div>"
      ],
      "text/plain": [
       "    Category                                     Expense\n",
       "298  Housing                                     Tablesw\n",
       "408  Housing              Key duplication or replacement\n",
       "382  Housing                                   Wallpaper\n",
       "609  Housing                            Electricity Bill\n",
       "724  Housing                Plumbing fixtures like sinks\n",
       "358  Housing                                moving truck\n",
       "582  Housing                                        Sofa\n",
       "834  Housing                                 Dishwashers\n",
       "909  Housing                                    Bedsheet\n",
       "805  Housing                                    Utensils\n",
       "650  Housing      Fire extinguishers and smoke detectors\n",
       "278  Housing                         professional movers\n",
       "531  Housing                                   Detergent\n",
       "698  Housing                                     Tablesw\n",
       "311  Housing                                         Mop\n",
       "916  Housing  Homeowners association special assessments\n",
       "866  Housing                              Garbage covers\n",
       "156  Housing                          Bedding and linens\n",
       "167  Housing                                       Ovens\n",
       "535  Housing                                       Desks\n",
       "116  Housing                              Vaccum cleaner\n",
       "744  Housing                                 Sewer clean\n",
       "124  Housing                                 Light bulbs\n",
       "12   Housing                                    LPG bill\n",
       "235  Housing                         professional movers"
      ]
     },
     "metadata": {},
     "output_type": "display_data"
    },
    {
     "name": "stdout",
     "output_type": "stream",
     "text": [
      "\n",
      "'Travel' predicted as 'Food' : 14 examples.\n"
     ]
    },
    {
     "data": {
      "text/html": [
       "<div>\n",
       "<style scoped>\n",
       "    .dataframe tbody tr th:only-of-type {\n",
       "        vertical-align: middle;\n",
       "    }\n",
       "\n",
       "    .dataframe tbody tr th {\n",
       "        vertical-align: top;\n",
       "    }\n",
       "\n",
       "    .dataframe thead th {\n",
       "        text-align: right;\n",
       "    }\n",
       "</style>\n",
       "<table border=\"1\" class=\"dataframe\">\n",
       "  <thead>\n",
       "    <tr style=\"text-align: right;\">\n",
       "      <th></th>\n",
       "      <th>Category</th>\n",
       "      <th>Expense</th>\n",
       "    </tr>\n",
       "  </thead>\n",
       "  <tbody>\n",
       "    <tr>\n",
       "      <th>306</th>\n",
       "      <td>Travel</td>\n",
       "      <td>Luggage bag</td>\n",
       "    </tr>\n",
       "    <tr>\n",
       "      <th>31</th>\n",
       "      <td>Travel</td>\n",
       "      <td>Hot air balloon ride over scenic landscapes</td>\n",
       "    </tr>\n",
       "    <tr>\n",
       "      <th>580</th>\n",
       "      <td>Travel</td>\n",
       "      <td>Fine dining restaurant meals</td>\n",
       "    </tr>\n",
       "    <tr>\n",
       "      <th>843</th>\n",
       "      <td>Travel</td>\n",
       "      <td>Front-row seats to a Broadway musical</td>\n",
       "    </tr>\n",
       "    <tr>\n",
       "      <th>493</th>\n",
       "      <td>Travel</td>\n",
       "      <td>Noise-canceling headphones</td>\n",
       "    </tr>\n",
       "    <tr>\n",
       "      <th>101</th>\n",
       "      <td>Travel</td>\n",
       "      <td>Fine dining restaurant meals</td>\n",
       "    </tr>\n",
       "    <tr>\n",
       "      <th>422</th>\n",
       "      <td>Travel</td>\n",
       "      <td>Deluxe hotel accommodation</td>\n",
       "    </tr>\n",
       "    <tr>\n",
       "      <th>162</th>\n",
       "      <td>Travel</td>\n",
       "      <td>Petrol</td>\n",
       "    </tr>\n",
       "    <tr>\n",
       "      <th>451</th>\n",
       "      <td>Travel</td>\n",
       "      <td>Taxi Fare</td>\n",
       "    </tr>\n",
       "    <tr>\n",
       "      <th>222</th>\n",
       "      <td>Travel</td>\n",
       "      <td>Artisanal food souvenirs</td>\n",
       "    </tr>\n",
       "    <tr>\n",
       "      <th>210</th>\n",
       "      <td>Travel</td>\n",
       "      <td>Auto rickshaw</td>\n",
       "    </tr>\n",
       "    <tr>\n",
       "      <th>122</th>\n",
       "      <td>Travel</td>\n",
       "      <td>Bus Fare</td>\n",
       "    </tr>\n",
       "    <tr>\n",
       "      <th>892</th>\n",
       "      <td>Travel</td>\n",
       "      <td>Camping Gear</td>\n",
       "    </tr>\n",
       "    <tr>\n",
       "      <th>127</th>\n",
       "      <td>Travel</td>\n",
       "      <td>Diving certification course</td>\n",
       "    </tr>\n",
       "  </tbody>\n",
       "</table>\n",
       "</div>"
      ],
      "text/plain": [
       "    Category                                      Expense\n",
       "306   Travel                                  Luggage bag\n",
       "31    Travel  Hot air balloon ride over scenic landscapes\n",
       "580   Travel                 Fine dining restaurant meals\n",
       "843   Travel        Front-row seats to a Broadway musical\n",
       "493   Travel                   Noise-canceling headphones\n",
       "101   Travel                 Fine dining restaurant meals\n",
       "422   Travel                   Deluxe hotel accommodation\n",
       "162   Travel                                       Petrol\n",
       "451   Travel                                    Taxi Fare\n",
       "222   Travel                     Artisanal food souvenirs\n",
       "210   Travel                                Auto rickshaw\n",
       "122   Travel                                     Bus Fare\n",
       "892   Travel                                 Camping Gear\n",
       "127   Travel                  Diving certification course"
      ]
     },
     "metadata": {},
     "output_type": "display_data"
    },
    {
     "name": "stdout",
     "output_type": "stream",
     "text": [
      "\n",
      "'Personal and Health Care' predicted as 'Food' : 26 examples.\n"
     ]
    },
    {
     "data": {
      "text/html": [
       "<div>\n",
       "<style scoped>\n",
       "    .dataframe tbody tr th:only-of-type {\n",
       "        vertical-align: middle;\n",
       "    }\n",
       "\n",
       "    .dataframe tbody tr th {\n",
       "        vertical-align: top;\n",
       "    }\n",
       "\n",
       "    .dataframe thead th {\n",
       "        text-align: right;\n",
       "    }\n",
       "</style>\n",
       "<table border=\"1\" class=\"dataframe\">\n",
       "  <thead>\n",
       "    <tr style=\"text-align: right;\">\n",
       "      <th></th>\n",
       "      <th>Category</th>\n",
       "      <th>Expense</th>\n",
       "    </tr>\n",
       "  </thead>\n",
       "  <tbody>\n",
       "    <tr>\n",
       "      <th>631</th>\n",
       "      <td>Personal and Health Care</td>\n",
       "      <td>Acupuncture Session</td>\n",
       "    </tr>\n",
       "    <tr>\n",
       "      <th>145</th>\n",
       "      <td>Personal and Health Care</td>\n",
       "      <td>Pediatric vaccinations or immunizations</td>\n",
       "    </tr>\n",
       "    <tr>\n",
       "      <th>478</th>\n",
       "      <td>Personal and Health Care</td>\n",
       "      <td>Therapist Session</td>\n",
       "    </tr>\n",
       "    <tr>\n",
       "      <th>447</th>\n",
       "      <td>Personal and Health Care</td>\n",
       "      <td>Shampoo</td>\n",
       "    </tr>\n",
       "    <tr>\n",
       "      <th>175</th>\n",
       "      <td>Personal and Health Care</td>\n",
       "      <td>Birth control methods and contraceptives</td>\n",
       "    </tr>\n",
       "    <tr>\n",
       "      <th>667</th>\n",
       "      <td>Personal and Health Care</td>\n",
       "      <td>Shampoo</td>\n",
       "    </tr>\n",
       "    <tr>\n",
       "      <th>200</th>\n",
       "      <td>Personal and Health Care</td>\n",
       "      <td>Makeup and cosmetics</td>\n",
       "    </tr>\n",
       "    <tr>\n",
       "      <th>337</th>\n",
       "      <td>Personal and Health Care</td>\n",
       "      <td>Rehabilitation or recovery programs like for s...</td>\n",
       "    </tr>\n",
       "    <tr>\n",
       "      <th>196</th>\n",
       "      <td>Personal and Health Care</td>\n",
       "      <td>Dietary supplements or protein powders</td>\n",
       "    </tr>\n",
       "    <tr>\n",
       "      <th>721</th>\n",
       "      <td>Personal and Health Care</td>\n",
       "      <td>Vitamins and supplements</td>\n",
       "    </tr>\n",
       "    <tr>\n",
       "      <th>332</th>\n",
       "      <td>Personal and Health Care</td>\n",
       "      <td>Shaving cream</td>\n",
       "    </tr>\n",
       "    <tr>\n",
       "      <th>700</th>\n",
       "      <td>Personal and Health Care</td>\n",
       "      <td>Lab tests</td>\n",
       "    </tr>\n",
       "    <tr>\n",
       "      <th>267</th>\n",
       "      <td>Personal and Health Care</td>\n",
       "      <td>Over-the-counter medications</td>\n",
       "    </tr>\n",
       "    <tr>\n",
       "      <th>141</th>\n",
       "      <td>Personal and Health Care</td>\n",
       "      <td>Hair oil</td>\n",
       "    </tr>\n",
       "    <tr>\n",
       "      <th>294</th>\n",
       "      <td>Personal and Health Care</td>\n",
       "      <td>Aromatherapy or essential oils</td>\n",
       "    </tr>\n",
       "    <tr>\n",
       "      <th>546</th>\n",
       "      <td>Personal and Health Care</td>\n",
       "      <td>Dietary supplements or protein powders</td>\n",
       "    </tr>\n",
       "    <tr>\n",
       "      <th>310</th>\n",
       "      <td>Personal and Health Care</td>\n",
       "      <td>Massage</td>\n",
       "    </tr>\n",
       "    <tr>\n",
       "      <th>54</th>\n",
       "      <td>Personal and Health Care</td>\n",
       "      <td>Physiotherapy</td>\n",
       "    </tr>\n",
       "    <tr>\n",
       "      <th>266</th>\n",
       "      <td>Personal and Health Care</td>\n",
       "      <td>Sleep aids device</td>\n",
       "    </tr>\n",
       "    <tr>\n",
       "      <th>670</th>\n",
       "      <td>Personal and Health Care</td>\n",
       "      <td>Vision correction surgeries</td>\n",
       "    </tr>\n",
       "    <tr>\n",
       "      <th>880</th>\n",
       "      <td>Personal and Health Care</td>\n",
       "      <td>Genetic testing or DNA analysis</td>\n",
       "    </tr>\n",
       "    <tr>\n",
       "      <th>638</th>\n",
       "      <td>Personal and Health Care</td>\n",
       "      <td>tanning cream</td>\n",
       "    </tr>\n",
       "    <tr>\n",
       "      <th>727</th>\n",
       "      <td>Personal and Health Care</td>\n",
       "      <td>medicines</td>\n",
       "    </tr>\n",
       "    <tr>\n",
       "      <th>477</th>\n",
       "      <td>Personal and Health Care</td>\n",
       "      <td>Herbal supplements or remedies</td>\n",
       "    </tr>\n",
       "    <tr>\n",
       "      <th>342</th>\n",
       "      <td>Personal and Health Care</td>\n",
       "      <td>Makeup and cosmetics</td>\n",
       "    </tr>\n",
       "    <tr>\n",
       "      <th>52</th>\n",
       "      <td>Personal and Health Care</td>\n",
       "      <td>Manicures and pedicures</td>\n",
       "    </tr>\n",
       "  </tbody>\n",
       "</table>\n",
       "</div>"
      ],
      "text/plain": [
       "                     Category   \n",
       "631  Personal and Health Care  \\\n",
       "145  Personal and Health Care   \n",
       "478  Personal and Health Care   \n",
       "447  Personal and Health Care   \n",
       "175  Personal and Health Care   \n",
       "667  Personal and Health Care   \n",
       "200  Personal and Health Care   \n",
       "337  Personal and Health Care   \n",
       "196  Personal and Health Care   \n",
       "721  Personal and Health Care   \n",
       "332  Personal and Health Care   \n",
       "700  Personal and Health Care   \n",
       "267  Personal and Health Care   \n",
       "141  Personal and Health Care   \n",
       "294  Personal and Health Care   \n",
       "546  Personal and Health Care   \n",
       "310  Personal and Health Care   \n",
       "54   Personal and Health Care   \n",
       "266  Personal and Health Care   \n",
       "670  Personal and Health Care   \n",
       "880  Personal and Health Care   \n",
       "638  Personal and Health Care   \n",
       "727  Personal and Health Care   \n",
       "477  Personal and Health Care   \n",
       "342  Personal and Health Care   \n",
       "52   Personal and Health Care   \n",
       "\n",
       "                                               Expense  \n",
       "631                                Acupuncture Session  \n",
       "145            Pediatric vaccinations or immunizations  \n",
       "478                                  Therapist Session  \n",
       "447                                            Shampoo  \n",
       "175           Birth control methods and contraceptives  \n",
       "667                                            Shampoo  \n",
       "200                               Makeup and cosmetics  \n",
       "337  Rehabilitation or recovery programs like for s...  \n",
       "196             Dietary supplements or protein powders  \n",
       "721                           Vitamins and supplements  \n",
       "332                                      Shaving cream  \n",
       "700                                          Lab tests  \n",
       "267                       Over-the-counter medications  \n",
       "141                                           Hair oil  \n",
       "294                     Aromatherapy or essential oils  \n",
       "546             Dietary supplements or protein powders  \n",
       "310                                            Massage  \n",
       "54                                       Physiotherapy  \n",
       "266                                  Sleep aids device  \n",
       "670                        Vision correction surgeries  \n",
       "880                    Genetic testing or DNA analysis  \n",
       "638                                      tanning cream  \n",
       "727                                          medicines  \n",
       "477                     Herbal supplements or remedies  \n",
       "342                               Makeup and cosmetics  \n",
       "52                             Manicures and pedicures  "
      ]
     },
     "metadata": {},
     "output_type": "display_data"
    },
    {
     "name": "stdout",
     "output_type": "stream",
     "text": [
      "\n"
     ]
    }
   ],
   "source": [
    "#what all were predicted wrong\n",
    "from IPython.display import display\n",
    "for predicted in category_id_df.category_id:\n",
    "  for actual in category_id_df.category_id:\n",
    "    if predicted != actual and conf_mat[actual, predicted] >= 10:\n",
    "      print(\"'{}' predicted as '{}' : {} examples.\".format(id_to_category[actual], id_to_category[predicted], conf_mat[actual, predicted]))\n",
    "      display(df.loc[indices_test[(y_test == actual) & (y_pred == predicted)]][['Category', 'Expense']])\n",
    "      print('')"
   ]
  },
  {
   "cell_type": "code",
   "execution_count": 18,
   "id": "15fd161d",
   "metadata": {},
   "outputs": [],
   "source": [
    "model = LinearSVC()"
   ]
  },
  {
   "cell_type": "code",
   "execution_count": 20,
   "id": "eb5a289d",
   "metadata": {
    "scrolled": true
   },
   "outputs": [
    {
     "data": {
      "text/html": [
       "<style>#sk-container-id-1 {color: black;background-color: white;}#sk-container-id-1 pre{padding: 0;}#sk-container-id-1 div.sk-toggleable {background-color: white;}#sk-container-id-1 label.sk-toggleable__label {cursor: pointer;display: block;width: 100%;margin-bottom: 0;padding: 0.3em;box-sizing: border-box;text-align: center;}#sk-container-id-1 label.sk-toggleable__label-arrow:before {content: \"▸\";float: left;margin-right: 0.25em;color: #696969;}#sk-container-id-1 label.sk-toggleable__label-arrow:hover:before {color: black;}#sk-container-id-1 div.sk-estimator:hover label.sk-toggleable__label-arrow:before {color: black;}#sk-container-id-1 div.sk-toggleable__content {max-height: 0;max-width: 0;overflow: hidden;text-align: left;background-color: #f0f8ff;}#sk-container-id-1 div.sk-toggleable__content pre {margin: 0.2em;color: black;border-radius: 0.25em;background-color: #f0f8ff;}#sk-container-id-1 input.sk-toggleable__control:checked~div.sk-toggleable__content {max-height: 200px;max-width: 100%;overflow: auto;}#sk-container-id-1 input.sk-toggleable__control:checked~label.sk-toggleable__label-arrow:before {content: \"▾\";}#sk-container-id-1 div.sk-estimator input.sk-toggleable__control:checked~label.sk-toggleable__label {background-color: #d4ebff;}#sk-container-id-1 div.sk-label input.sk-toggleable__control:checked~label.sk-toggleable__label {background-color: #d4ebff;}#sk-container-id-1 input.sk-hidden--visually {border: 0;clip: rect(1px 1px 1px 1px);clip: rect(1px, 1px, 1px, 1px);height: 1px;margin: -1px;overflow: hidden;padding: 0;position: absolute;width: 1px;}#sk-container-id-1 div.sk-estimator {font-family: monospace;background-color: #f0f8ff;border: 1px dotted black;border-radius: 0.25em;box-sizing: border-box;margin-bottom: 0.5em;}#sk-container-id-1 div.sk-estimator:hover {background-color: #d4ebff;}#sk-container-id-1 div.sk-parallel-item::after {content: \"\";width: 100%;border-bottom: 1px solid gray;flex-grow: 1;}#sk-container-id-1 div.sk-label:hover label.sk-toggleable__label {background-color: #d4ebff;}#sk-container-id-1 div.sk-serial::before {content: \"\";position: absolute;border-left: 1px solid gray;box-sizing: border-box;top: 0;bottom: 0;left: 50%;z-index: 0;}#sk-container-id-1 div.sk-serial {display: flex;flex-direction: column;align-items: center;background-color: white;padding-right: 0.2em;padding-left: 0.2em;position: relative;}#sk-container-id-1 div.sk-item {position: relative;z-index: 1;}#sk-container-id-1 div.sk-parallel {display: flex;align-items: stretch;justify-content: center;background-color: white;position: relative;}#sk-container-id-1 div.sk-item::before, #sk-container-id-1 div.sk-parallel-item::before {content: \"\";position: absolute;border-left: 1px solid gray;box-sizing: border-box;top: 0;bottom: 0;left: 50%;z-index: -1;}#sk-container-id-1 div.sk-parallel-item {display: flex;flex-direction: column;z-index: 1;position: relative;background-color: white;}#sk-container-id-1 div.sk-parallel-item:first-child::after {align-self: flex-end;width: 50%;}#sk-container-id-1 div.sk-parallel-item:last-child::after {align-self: flex-start;width: 50%;}#sk-container-id-1 div.sk-parallel-item:only-child::after {width: 0;}#sk-container-id-1 div.sk-dashed-wrapped {border: 1px dashed gray;margin: 0 0.4em 0.5em 0.4em;box-sizing: border-box;padding-bottom: 0.4em;background-color: white;}#sk-container-id-1 div.sk-label label {font-family: monospace;font-weight: bold;display: inline-block;line-height: 1.2em;}#sk-container-id-1 div.sk-label-container {text-align: center;}#sk-container-id-1 div.sk-container {/* jupyter's `normalize.less` sets `[hidden] { display: none; }` but bootstrap.min.css set `[hidden] { display: none !important; }` so we also need the `!important` here to be able to override the default hidden behavior on the sphinx rendered scikit-learn.org. See: https://github.com/scikit-learn/scikit-learn/issues/21755 */display: inline-block !important;position: relative;}#sk-container-id-1 div.sk-text-repr-fallback {display: none;}</style><div id=\"sk-container-id-1\" class=\"sk-top-container\"><div class=\"sk-text-repr-fallback\"><pre>LinearSVC()</pre><b>In a Jupyter environment, please rerun this cell to show the HTML representation or trust the notebook. <br />On GitHub, the HTML representation is unable to render, please try loading this page with nbviewer.org.</b></div><div class=\"sk-container\" hidden><div class=\"sk-item\"><div class=\"sk-estimator sk-toggleable\"><input class=\"sk-toggleable__control sk-hidden--visually\" id=\"sk-estimator-id-1\" type=\"checkbox\" checked><label for=\"sk-estimator-id-1\" class=\"sk-toggleable__label sk-toggleable__label-arrow\">LinearSVC</label><div class=\"sk-toggleable__content\"><pre>LinearSVC()</pre></div></div></div></div></div>"
      ],
      "text/plain": [
       "LinearSVC()"
      ]
     },
     "execution_count": 20,
     "metadata": {},
     "output_type": "execute_result"
    }
   ],
   "source": [
    "model.fit(X_train,y_train)"
   ]
  },
  {
   "cell_type": "code",
   "execution_count": 21,
   "id": "ecc77bd6",
   "metadata": {},
   "outputs": [
    {
     "data": {
      "text/plain": [
       "0.5789473684210527"
      ]
     },
     "execution_count": 21,
     "metadata": {},
     "output_type": "execute_result"
    }
   ],
   "source": [
    "model.score(X_test,y_test)"
   ]
  },
  {
   "cell_type": "code",
   "execution_count": 23,
   "id": "cc31e61c",
   "metadata": {},
   "outputs": [],
   "source": [
    "X_train, X_test, y_train, y_test = train_test_split(df['Expense'], df['Category'], random_state = 0)\n",
    "count_vect = CountVectorizer()\n",
    "X_train_counts = count_vect.fit_transform(X_train)\n",
    "tfidf_transformer = TfidfTransformer()\n",
    "X_train_tfidf = tfidf_transformer.fit_transform(X_train_counts)\n",
    "clf = LinearSVC().fit(X_train_tfidf, y_train)"
   ]
  },
  {
   "cell_type": "code",
   "execution_count": 25,
   "id": "f557ff16",
   "metadata": {},
   "outputs": [
    {
     "name": "stdout",
     "output_type": "stream",
     "text": [
      "['Food']\n"
     ]
    }
   ],
   "source": [
    "print(clf.predict(count_vect.transform(['Pizza'])))"
   ]
  },
  {
   "cell_type": "code",
   "execution_count": 26,
   "id": "073530e8",
   "metadata": {},
   "outputs": [
    {
     "name": "stdout",
     "output_type": "stream",
     "text": [
      "['Food']\n"
     ]
    }
   ],
   "source": [
    "print(clf.predict(count_vect.transform(['Dosa'])))"
   ]
  },
  {
   "cell_type": "code",
   "execution_count": 28,
   "id": "8afb540e",
   "metadata": {},
   "outputs": [
    {
     "name": "stdout",
     "output_type": "stream",
     "text": [
      "['Personal and Health Care']\n"
     ]
    }
   ],
   "source": [
    "print(clf.predict(count_vect.transform(['Hairspray'])))"
   ]
  },
  {
   "cell_type": "code",
   "execution_count": 29,
   "id": "5ec3f400",
   "metadata": {},
   "outputs": [
    {
     "name": "stdout",
     "output_type": "stream",
     "text": [
      "['Travel']\n"
     ]
    }
   ],
   "source": [
    "print(clf.predict(count_vect.transform(['Petrol'])))"
   ]
  },
  {
   "cell_type": "code",
   "execution_count": 30,
   "id": "beba6379",
   "metadata": {},
   "outputs": [
    {
     "name": "stdout",
     "output_type": "stream",
     "text": [
      "['Housing']\n"
     ]
    }
   ],
   "source": [
    "print(clf.predict(count_vect.transform(['Electricity bill'])))"
   ]
  },
  {
   "cell_type": "code",
   "execution_count": 31,
   "id": "cdb2d2db",
   "metadata": {},
   "outputs": [
    {
     "name": "stdout",
     "output_type": "stream",
     "text": [
      "['Food']\n"
     ]
    }
   ],
   "source": [
    "print(clf.predict(count_vect.transform(['Restaurant'])))"
   ]
  },
  {
   "cell_type": "code",
   "execution_count": 32,
   "id": "60b40e2d",
   "metadata": {},
   "outputs": [
    {
     "name": "stdout",
     "output_type": "stream",
     "text": [
      "['Travel']\n"
     ]
    }
   ],
   "source": [
    "print(clf.predict(count_vect.transform(['Bus fare'])))"
   ]
  },
  {
   "cell_type": "code",
   "execution_count": 33,
   "id": "1d80dc7d",
   "metadata": {},
   "outputs": [
    {
     "name": "stdout",
     "output_type": "stream",
     "text": [
      "['Travel']\n"
     ]
    }
   ],
   "source": [
    "print(clf.predict(count_vect.transform(['Train ticket'])))"
   ]
  },
  {
   "cell_type": "code",
   "execution_count": 34,
   "id": "0fb820f2",
   "metadata": {},
   "outputs": [
    {
     "name": "stdout",
     "output_type": "stream",
     "text": [
      "['Savings']\n"
     ]
    }
   ],
   "source": [
    "print(clf.predict(count_vect.transform(['Mutual funds'])))"
   ]
  },
  {
   "cell_type": "code",
   "execution_count": 36,
   "id": "31c7084f",
   "metadata": {},
   "outputs": [
    {
     "name": "stdout",
     "output_type": "stream",
     "text": [
      "['Miscellaneous']\n"
     ]
    }
   ],
   "source": [
    "#may come under entertainment and travel\n",
    "print(clf.predict(count_vect.transform(['Concert tickets'])))"
   ]
  },
  {
   "cell_type": "code",
   "execution_count": 37,
   "id": "788042bf",
   "metadata": {},
   "outputs": [
    {
     "name": "stdout",
     "output_type": "stream",
     "text": [
      "['Housing']\n"
     ]
    }
   ],
   "source": [
    "print(clf.predict(count_vect.transform(['Gas bill'])))"
   ]
  },
  {
   "cell_type": "code",
   "execution_count": 38,
   "id": "faa32b37",
   "metadata": {},
   "outputs": [
    {
     "name": "stdout",
     "output_type": "stream",
     "text": [
      "['Travel']\n"
     ]
    }
   ],
   "source": [
    "print(clf.predict(count_vect.transform(['Diesel'])))"
   ]
  },
  {
   "cell_type": "code",
   "execution_count": 39,
   "id": "b5783de2",
   "metadata": {},
   "outputs": [
    {
     "name": "stdout",
     "output_type": "stream",
     "text": [
      "['Housing']\n"
     ]
    }
   ],
   "source": [
    "print(clf.predict(count_vect.transform(['Refrigerator repairs'])))"
   ]
  },
  {
   "cell_type": "code",
   "execution_count": 40,
   "id": "ba44fb72",
   "metadata": {},
   "outputs": [
    {
     "name": "stdout",
     "output_type": "stream",
     "text": [
      "['Food']\n"
     ]
    }
   ],
   "source": [
    "print(clf.predict(count_vect.transform(['Oats'])))"
   ]
  },
  {
   "cell_type": "code",
   "execution_count": 41,
   "id": "367193d8",
   "metadata": {},
   "outputs": [
    {
     "name": "stdout",
     "output_type": "stream",
     "text": [
      "['Food']\n"
     ]
    }
   ],
   "source": [
    "print(clf.predict(count_vect.transform(['Tea'])))"
   ]
  },
  {
   "cell_type": "code",
   "execution_count": 42,
   "id": "2d205fe7",
   "metadata": {},
   "outputs": [
    {
     "name": "stdout",
     "output_type": "stream",
     "text": [
      "['Food']\n"
     ]
    }
   ],
   "source": [
    "print(clf.predict(count_vect.transform(['Butter'])))"
   ]
  },
  {
   "cell_type": "code",
   "execution_count": 43,
   "id": "1d587c88",
   "metadata": {},
   "outputs": [
    {
     "name": "stdout",
     "output_type": "stream",
     "text": [
      "['Personal and Health Care']\n"
     ]
    }
   ],
   "source": [
    "print(clf.predict(count_vect.transform(['Dolo 650 medicine'])))"
   ]
  },
  {
   "cell_type": "code",
   "execution_count": 44,
   "id": "c60dcc42",
   "metadata": {},
   "outputs": [
    {
     "name": "stdout",
     "output_type": "stream",
     "text": [
      "['Food']\n"
     ]
    }
   ],
   "source": [
    "print(clf.predict(count_vect.transform(['Swiggy order'])))"
   ]
  },
  {
   "cell_type": "code",
   "execution_count": 45,
   "id": "936eef8c",
   "metadata": {},
   "outputs": [
    {
     "name": "stdout",
     "output_type": "stream",
     "text": [
      "['Housing']\n"
     ]
    }
   ],
   "source": [
    "print(clf.predict(count_vect.transform(['Hard disk purchase'])))"
   ]
  },
  {
   "cell_type": "code",
   "execution_count": 46,
   "id": "3e2f280c",
   "metadata": {},
   "outputs": [
    {
     "name": "stdout",
     "output_type": "stream",
     "text": [
      "['Savings']\n"
     ]
    }
   ],
   "source": [
    "print(clf.predict(count_vect.transform(['Adani green investment'])))"
   ]
  },
  {
   "cell_type": "code",
   "execution_count": 47,
   "id": "3a63ebd1",
   "metadata": {},
   "outputs": [
    {
     "name": "stdout",
     "output_type": "stream",
     "text": [
      "['Housing']\n"
     ]
    }
   ],
   "source": [
    "print(clf.predict(count_vect.transform(['Samsung galaxy m14 mobile purchase'])))"
   ]
  },
  {
   "cell_type": "code",
   "execution_count": 48,
   "id": "7fe2931c",
   "metadata": {},
   "outputs": [
    {
     "name": "stdout",
     "output_type": "stream",
     "text": [
      "['Personal and Health Care']\n"
     ]
    }
   ],
   "source": [
    "print(clf.predict(count_vect.transform(['fastrack watch purchase'])))"
   ]
  },
  {
   "cell_type": "code",
   "execution_count": 49,
   "id": "4087baca",
   "metadata": {},
   "outputs": [
    {
     "name": "stdout",
     "output_type": "stream",
     "text": [
      "['Housing']\n"
     ]
    }
   ],
   "source": [
    "print(clf.predict(count_vect.transform(['Electricity bill'])))"
   ]
  },
  {
   "cell_type": "code",
   "execution_count": 54,
   "id": "d9b9b89f",
   "metadata": {},
   "outputs": [
    {
     "name": "stdout",
     "output_type": "stream",
     "text": [
      "['Food']\n"
     ]
    }
   ],
   "source": [
    "print(clf.predict(count_vect.transform(['Badminton'])))"
   ]
  },
  {
   "cell_type": "code",
   "execution_count": 55,
   "id": "fd377d69",
   "metadata": {},
   "outputs": [
    {
     "name": "stdout",
     "output_type": "stream",
     "text": [
      "['Personal and Health Care']\n"
     ]
    }
   ],
   "source": [
    "print(clf.predict(count_vect.transform(['Skin doctor'])))"
   ]
  },
  {
   "cell_type": "code",
   "execution_count": 56,
   "id": "840bb143",
   "metadata": {},
   "outputs": [
    {
     "name": "stdout",
     "output_type": "stream",
     "text": [
      "['Personal and Health Care']\n"
     ]
    }
   ],
   "source": [
    "print(clf.predict(count_vect.transform(['Ointments'])))"
   ]
  },
  {
   "cell_type": "code",
   "execution_count": 58,
   "id": "f5fe4a08",
   "metadata": {},
   "outputs": [
    {
     "name": "stdout",
     "output_type": "stream",
     "text": [
      "['Personal and Health Care']\n"
     ]
    }
   ],
   "source": [
    "print(clf.predict(count_vect.transform(['Lotions and creams'])))"
   ]
  },
  {
   "cell_type": "code",
   "execution_count": 59,
   "id": "56a78583",
   "metadata": {},
   "outputs": [
    {
     "name": "stdout",
     "output_type": "stream",
     "text": [
      "['Food']\n"
     ]
    }
   ],
   "source": [
    "print(clf.predict(count_vect.transform(['Zomato order'])))"
   ]
  },
  {
   "cell_type": "code",
   "execution_count": 60,
   "id": "9cbb73b9",
   "metadata": {},
   "outputs": [
    {
     "name": "stdout",
     "output_type": "stream",
     "text": [
      "['Housing']\n"
     ]
    }
   ],
   "source": [
    "print(clf.predict(count_vect.transform(['Tube light purchase'])))"
   ]
  },
  {
   "cell_type": "code",
   "execution_count": 61,
   "id": "9619f583",
   "metadata": {},
   "outputs": [
    {
     "name": "stdout",
     "output_type": "stream",
     "text": [
      "['Housing']\n"
     ]
    }
   ],
   "source": [
    "print(clf.predict(count_vect.transform(['Jio fibre bill'])))"
   ]
  },
  {
   "cell_type": "code",
   "execution_count": 62,
   "id": "ac190fdf",
   "metadata": {},
   "outputs": [
    {
     "name": "stdout",
     "output_type": "stream",
     "text": [
      "['Housing']\n"
     ]
    }
   ],
   "source": [
    "print(clf.predict(count_vect.transform(['Airtel bill'])))"
   ]
  },
  {
   "cell_type": "code",
   "execution_count": 63,
   "id": "9e103e1c",
   "metadata": {},
   "outputs": [
    {
     "name": "stdout",
     "output_type": "stream",
     "text": [
      "['Food']\n"
     ]
    }
   ],
   "source": [
    "print(clf.predict(count_vect.transform(['vada pav'])))"
   ]
  },
  {
   "cell_type": "code",
   "execution_count": 64,
   "id": "1ce5843d",
   "metadata": {},
   "outputs": [
    {
     "name": "stdout",
     "output_type": "stream",
     "text": [
      "['Housing']\n"
     ]
    }
   ],
   "source": [
    "print(clf.predict(count_vect.transform(['House lease'])))"
   ]
  },
  {
   "cell_type": "code",
   "execution_count": 65,
   "id": "3d2977ab",
   "metadata": {},
   "outputs": [
    {
     "name": "stdout",
     "output_type": "stream",
     "text": [
      "['Savings']\n"
     ]
    }
   ],
   "source": [
    "print(clf.predict(count_vect.transform(['Zomato shares'])))"
   ]
  },
  {
   "cell_type": "code",
   "execution_count": 66,
   "id": "d46f3fb1",
   "metadata": {},
   "outputs": [
    {
     "name": "stdout",
     "output_type": "stream",
     "text": [
      "['Entertainment']\n"
     ]
    }
   ],
   "source": [
    "print(clf.predict(count_vect.transform(['Netflix subscription'])))"
   ]
  },
  {
   "cell_type": "code",
   "execution_count": 67,
   "id": "a4b2558c",
   "metadata": {},
   "outputs": [
    {
     "name": "stdout",
     "output_type": "stream",
     "text": [
      "['Savings']\n"
     ]
    }
   ],
   "source": [
    "print(clf.predict(count_vect.transform(['Paytm stocks'])))"
   ]
  }
 ],
 "metadata": {
  "kernelspec": {
   "display_name": "Python 3 (ipykernel)",
   "language": "python",
   "name": "python3"
  },
  "language_info": {
   "codemirror_mode": {
    "name": "ipython",
    "version": 3
   },
   "file_extension": ".py",
   "mimetype": "text/x-python",
   "name": "python",
   "nbconvert_exporter": "python",
   "pygments_lexer": "ipython3",
   "version": "3.10.2"
  }
 },
 "nbformat": 4,
 "nbformat_minor": 5
}
